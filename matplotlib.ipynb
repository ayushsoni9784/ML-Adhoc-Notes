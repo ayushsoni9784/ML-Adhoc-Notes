{
  "nbformat": 4,
  "nbformat_minor": 0,
  "metadata": {
    "colab": {
      "name": "matplotlib.ipynb",
      "version": "0.3.2",
      "provenance": [],
      "collapsed_sections": []
    },
    "kernelspec": {
      "name": "python3",
      "display_name": "Python 3"
    }
  },
  "cells": [
    {
      "cell_type": "code",
      "metadata": {
        "id": "djqesaNZTgEQ",
        "colab_type": "code",
        "outputId": "55b037b5-d548-40e5-b6c5-0b91816359da",
        "colab": {
          "base_uri": "https://localhost:8080/",
          "height": 300
        }
      },
      "source": [
        "import matplotlib.pyplot as plt\n",
        "#only loading python oriented library\n",
        "x=[2,3]\n",
        "x1=[4,3,8]\n",
        "y1=[2,8,7]\n",
        "y=[9,5]\n",
        "plt.xlabel(\"time\")\n",
        "plt.ylabel(\"speed\")\n",
        "#plt.plot(x,y,label=\"water\")#this will plot a straight line\n",
        "#plt.plot(x1,y1,label=\"sand\") #this will draw a straight line\n",
        "plt.bar(x,y) #this will plot bar\n",
        "plt.bar(x1,y1) #this will plot bar \n",
        "plt.grid(color=\"green\") #to form grid with color in graph\n",
        "plt.legend() #to show labels with plot\n",
        "plt.xlim(0,12) # to show min and max in x axis\n",
        "plt.ylim(0,15) # to show min and max in y axis  \n",
        "plt.show()"
      ],
      "execution_count": 1,
      "outputs": [
        {
          "output_type": "stream",
          "text": [
            "No handles with labels found to put in legend.\n"
          ],
          "name": "stderr"
        },
        {
          "output_type": "display_data",
          "data": {
            "image/png": "[encoded data removed]",
            "text/plain": [
              "<Figure size 432x288 with 1 Axes>"
            ]
          },
          "metadata": {
            "tags": []
          }
        }
      ]
    },
    {
      "cell_type": "code",
      "metadata": {
        "id": "GBLgwrfJTmUM",
        "colab_type": "code",
        "colab": {
          "base_uri": "https://localhost:8080/",
          "height": 286
        },
        "outputId": "aa57b7ac-6cf3-4c26-a52c-69636f754a72"
      },
      "source": [
        "import matplotlib.pyplot as plt\n",
        "#only loading python oriented library\n",
        "x=[2,3]\n",
        "x1=[4,3,8]\n",
        "y1=[2,8,7]\n",
        "y=[9,5]\n",
        "plt.scatter(x,y) #to show only points \n",
        "plt.scatter(x1,y1) #to show only points\n",
        "#plt.bar(x,y) #this will plot bar\n",
        "#plt.bar(x1,y1)"
      ],
      "execution_count": 3,
      "outputs": [
        {
          "output_type": "execute_result",
          "data": {
            "text/plain": [
              "<matplotlib.collections.PathCollection at 0x7f96eda30780>"
            ]
          },
          "metadata": {
            "tags": []
          },
          "execution_count": 3
        },
        {
          "output_type": "display_data",
          "data": {
            "image/png": "[encoded data removed]",
            "text/plain": [
              "<Figure size 432x288 with 1 Axes>"
            ]
          },
          "metadata": {
            "tags": []
          }
        }
      ]
    },
    {
      "cell_type": "code",
      "metadata": {
        "id": "5pCbDkPgDZlh",
        "colab_type": "code",
        "colab": {
          "base_uri": "https://localhost:8080/",
          "height": 255
        },
        "outputId": "60eea0e1-013a-4136-bea7-fc61a20de380"
      },
      "source": [
        "x=[4,7,8,9,11,5]\n",
        "y=[13,23,5,7,9,3]\n",
        "player=[\"virat\",'dhoni','pandya','rohit']\n",
        "runs=[170,150,100,199]\n",
        "exp=[0.1,0,0,0]\n",
        "plt.pie(runs,labels=player,explode=exp,shadow=True,autopct='%1.1f%%')\n",
        "plt.grid(color='green')\n",
        "plt.legend()\n",
        "plt.show()"
      ],
      "execution_count": 8,
      "outputs": [
        {
          "output_type": "display_data",
          "data": {
            "image/png": "[encoded data removed]",
            "text/plain": [
              "<Figure size 432x288 with 1 Axes>"
            ]
          },
          "metadata": {
            "tags": []
          }
        }
      ]
    },
    {
      "cell_type": "code",
      "metadata": {
        "id": "0Td5I606GEQ3",
        "colab_type": "code",
        "colab": {}
      },
      "source": [
        ""
      ],
      "execution_count": 0,
      "outputs": []
    },
    {
      "cell_type": "code",
      "metadata": {
        "id": "SWJMBvxtKu24",
        "colab_type": "code",
        "colab": {}
      },
      "source": [
        ""
      ],
      "execution_count": 0,
      "outputs": []
    }
  ]
}